{
 "cells": [
  {
   "cell_type": "markdown",
   "metadata": {
    "deletable": false,
    "editable": false,
    "nbgrader": {
     "checksum": "adf284b8bb1d10a56bcf6780e79bfa39",
     "grade": false,
     "grade_id": "cell-c7b292b2a72e8f22",
     "locked": true,
     "schema_version": 1,
     "solution": false
    }
   },
   "source": [
    "# Homework 1\n",
    "\n",
    "The maximum score of this homework is 100+10 points. Grading is listed in this table:\n",
    "\n",
    "| Grade | Score range |\n",
    "| --- | --- |\n",
    "| 5 | 85+ |\n",
    "| 4 | 70-84 |\n",
    "| 3 | 55-69 |\n",
    "| 2 | 40-54 |\n",
    "| 1 | 0-39 |\n",
    "\n",
    "Most exercises include tests which should pass if your solution is correct.\n",
    "However successful test do not guarantee that your solution is correct.\n",
    "The homework is partially autograded using many hidden tests.\n",
    "Test cells cannot be modified and empty cells cannot be deleted.\n",
    "\n",
    "Your solution should replace placeholder lines such as:\n",
    "\n",
    "    ### YOUR CODE HERE\n",
    "    raise NotImplementedError()\n",
    "\n",
    "Please do not add new cells, they will be ignored by the autograder.\n",
    "\n",
    "**VERY IMPORTANT** Before submitting your solution (pushing to the git repo),\n",
    "run your notebook with `Kernel -> Restart & Run All` and make sure it\n",
    "runs without exceptions.\n",
    "\n",
    "## Submission\n",
    "\n",
    "GitHub Classroom will accept your last pushed version before the deadline.\n",
    "You do not need to send the homework to the instructor."
   ]
  },
  {
   "cell_type": "markdown",
   "metadata": {
    "deletable": false,
    "editable": false,
    "nbgrader": {
     "checksum": "a6c2d62d7c20a040cca21b4cd24053b7",
     "grade": false,
     "grade_id": "cell-8eabd7d91a0608ab",
     "locked": true,
     "schema_version": 1,
     "solution": false
    }
   },
   "source": [
    "## 1. Modified Levenshtein distance (20 points)\n",
    "\n",
    "Standard Levenshtein distance assigns an integer edit distance to any two strings measuring how difficult it would be to turn one string into the other. See [Wikipedia](https://en.wikipedia.org/wiki/Levenshtein_distance).\n",
    "\n",
    "Create a modify version of Levenshtein distance which discounts letters\n",
    "that are close to each other on the English keyboard. The keyboard variable below\n",
    "contains the English keyboard organized into a table.\n",
    "Two letters are considered close to each other if both their row\n",
    "and column distance is at most 1. Close keys are at distance 0.5,\n",
    "others are at distance 1.\n",
    "This table lists a few examples:\n",
    "\n",
    "| | | distance |\n",
    "| ---- | ---- |\n",
    "| q | w | 0.5 |\n",
    "| q | e | 1 |\n",
    "| s | w | 0.5 |\n",
    "| f | t | 0.5 |\n",
    "| f | y | 1 |\n",
    "| f | f | 0 |\n",
    "\n",
    "Any letter outside the lowercase English alphabet (see the `keyboard` variable below)\n",
    "is not considered close and you do not need to discount them."
   ]
  },
  {
   "cell_type": "code",
   "execution_count": null,
   "metadata": {
    "deletable": false,
    "editable": false,
    "nbgrader": {
     "checksum": "dd1234f5f45be61b4e0e742d2b6a0810",
     "grade": false,
     "grade_id": "cell-c4b03128888cd4b0",
     "locked": true,
     "schema_version": 1,
     "solution": false
    }
   },
   "outputs": [],
   "source": [
    "keyboard = [\n",
    "    ['q', 'w', 'e', 'r', 't', 'y', 'u', 'i', 'o', 'p'],\n",
    "    ['a', 's', 'd', 'f', 'g', 'h', 'j', 'k', 'l'],\n",
    "    ['z', 'x', 'c', 'v', 'b', 'n', 'm'],\n",
    "]\n",
    "keyboard_mapping = {}\n",
    "for i, row in enumerate(keyboard):\n",
    "    for j, c in enumerate(row):\n",
    "        keyboard_mapping[c] = (i, j)"
   ]
  },
  {
   "cell_type": "code",
   "execution_count": null,
   "metadata": {
    "deletable": false,
    "nbgrader": {
     "checksum": "4b86b75da5e44c6b5a21ef53cdcf4cdf",
     "grade": false,
     "grade_id": "cell-4aabc448be0f8eb8",
     "locked": false,
     "schema_version": 1,
     "solution": true
    }
   },
   "outputs": [],
   "source": [
    "def keyboard_edit_distance(str1, str2):\n",
    "    # YOUR CODE HERE\n",
    "    raise NotImplementedError()"
   ]
  },
  {
   "cell_type": "code",
   "execution_count": null,
   "metadata": {
    "deletable": false,
    "editable": false,
    "nbgrader": {
     "checksum": "debdbb78982f9dca21b8cd7f506fb719",
     "grade": true,
     "grade_id": "cell-92748a4d4ec4b9a3",
     "locked": true,
     "points": 10,
     "schema_version": 1,
     "solution": false
    }
   },
   "outputs": [],
   "source": [
    "assert keyboard_edit_distance(\"abc\", \"abc\") == 0\n",
    "assert keyboard_edit_distance(\"abc\", \"ab\") == 1"
   ]
  },
  {
   "cell_type": "code",
   "execution_count": null,
   "metadata": {
    "deletable": false,
    "editable": false,
    "nbgrader": {
     "checksum": "aaac499e3a80b43fe74d64eae484d241",
     "grade": true,
     "grade_id": "cell-d6d5e8aeb4f137cb",
     "locked": true,
     "points": 10,
     "schema_version": 1,
     "solution": false
    }
   },
   "outputs": [],
   "source": [
    "assert keyboard_edit_distance(\"a\", \"s\") == 0.5"
   ]
  },
  {
   "cell_type": "markdown",
   "metadata": {
    "deletable": false,
    "editable": false,
    "nbgrader": {
     "checksum": "86eadd299ff78b092d3274d76aef8a48",
     "grade": false,
     "grade_id": "cell-0ed0cb34096ddb15",
     "locked": true,
     "schema_version": 1,
     "solution": false
    }
   },
   "source": [
    "## 2. Replace rare words (10 points)\n",
    "\n",
    "Write a function that takes a text and a number $N$ as parameters and replaces every word other than the most common $N$ in the text with a common symbol. The symbol by default is __RARE__ but it can be redefined.\n",
    "\n",
    "Your code should split on spaces only.\n",
    "\n",
    "You can derive the function definition from the tests."
   ]
  },
  {
   "cell_type": "code",
   "execution_count": null,
   "metadata": {
    "deletable": false,
    "nbgrader": {
     "checksum": "29e3c2e42398b1d777fd856fd45fefac",
     "grade": false,
     "grade_id": "cell-3f03df0e30541457",
     "locked": false,
     "schema_version": 1,
     "solution": true
    }
   },
   "outputs": [],
   "source": [
    "# YOUR CODE HERE\n",
    "raise NotImplementedError()"
   ]
  },
  {
   "cell_type": "code",
   "execution_count": null,
   "metadata": {
    "deletable": false,
    "editable": false,
    "nbgrader": {
     "checksum": "b8104588f70aba7d1d493c7762b78f4d",
     "grade": true,
     "grade_id": "cell-ad7519e408fad885",
     "locked": true,
     "points": 3,
     "schema_version": 1,
     "solution": false
    }
   },
   "outputs": [],
   "source": [
    "assert replace_rare_words(\"a b a b b c\", 2) == \"a b a b b __RARE__\"\n",
    "assert replace_rare_words(\"a b a b b c\", 2, rare_symbol=\"rare\") == \"a b a b b rare\""
   ]
  },
  {
   "cell_type": "code",
   "execution_count": null,
   "metadata": {
    "deletable": false,
    "editable": false,
    "nbgrader": {
     "checksum": "98e83fd9a53e35de74acce759c7947ce",
     "grade": true,
     "grade_id": "cell-03ebc98fa36b7e93",
     "locked": true,
     "points": 1,
     "schema_version": 1,
     "solution": false
    }
   },
   "outputs": [],
   "source": []
  },
  {
   "cell_type": "code",
   "execution_count": null,
   "metadata": {
    "deletable": false,
    "editable": false,
    "nbgrader": {
     "checksum": "67ecb14577aac51d2990742f9944f286",
     "grade": true,
     "grade_id": "cell-0454e3a47008a258",
     "locked": true,
     "points": 2,
     "schema_version": 1,
     "solution": false
    }
   },
   "outputs": [],
   "source": []
  },
  {
   "cell_type": "code",
   "execution_count": null,
   "metadata": {
    "deletable": false,
    "editable": false,
    "nbgrader": {
     "checksum": "5150edfb2c6bb3a83839c54a93bad54a",
     "grade": true,
     "grade_id": "cell-07ce23e88f73124a",
     "locked": true,
     "points": 2,
     "schema_version": 1,
     "solution": false
    }
   },
   "outputs": [],
   "source": []
  },
  {
   "cell_type": "code",
   "execution_count": null,
   "metadata": {
    "deletable": false,
    "editable": false,
    "nbgrader": {
     "checksum": "a7ebd97641d014eff9c30896db2df8f3",
     "grade": true,
     "grade_id": "cell-b83b7f41c5ed954d",
     "locked": true,
     "points": 2,
     "schema_version": 1,
     "solution": false
    }
   },
   "outputs": [],
   "source": []
  },
  {
   "cell_type": "markdown",
   "metadata": {
    "deletable": false,
    "editable": false,
    "nbgrader": {
     "checksum": "d4e5d27182864cdfec685ec7f4bea74b",
     "grade": false,
     "grade_id": "cell-037664e670c0b002",
     "locked": true,
     "schema_version": 1,
     "solution": false
    }
   },
   "source": [
    "## 3. MutableString (30 points)\n",
    "\n",
    "Python strings are immutable. Create a mutable string class. The internal representation should be mutable too.\n",
    "\n",
    "Implement the following features (see the tests below).\n",
    "\n",
    "- initialization from `str`,\n",
    "- initialization from text file (loads the file's content into the string),\n",
    "- assignment (i.e. modifying a character),\n",
    "  - if the index is out of range, it should fill the blanks with spaces (see the tests below)\n",
    "- conversion to built-in `str` and `list`. The latter is a list of the characters.\n",
    "- addition with other `MutableString` instances and built-in strings,\n",
    "- multiplication with integers. Multiplying a string with 3 means repeating the string 3 times.\n",
    "- built-in `len` function,\n",
    "- comparision with strings,\n",
    "- substring containment with both built-in strings and other MutableString objects,\n",
    "- in-place upper and lowercasing,\n",
    "- shallow copying,\n",
    "- iteration.\n",
    "\n",
    "Please read all of the tests before writing your solution."
   ]
  },
  {
   "cell_type": "code",
   "execution_count": null,
   "metadata": {
    "deletable": false,
    "nbgrader": {
     "checksum": "e86ba5b8f10d6e51c3919cef7e3f2349",
     "grade": false,
     "grade_id": "cell-97c9229b87c830f9",
     "locked": false,
     "schema_version": 1,
     "solution": true
    }
   },
   "outputs": [],
   "source": [
    "class MutableString(object):\n",
    "    # YOUR CODE HERE\n",
    "    raise NotImplementedError()"
   ]
  },
  {
   "cell_type": "markdown",
   "metadata": {
    "deletable": false,
    "editable": false,
    "nbgrader": {
     "checksum": "f4ead55ed8d8245403d6208cce0dc847",
     "grade": false,
     "grade_id": "cell-9862086a44a1cd89",
     "locked": true,
     "schema_version": 1,
     "solution": false
    }
   },
   "source": [
    "### Briefly describe what internal representation you chose and why you chose it.\n",
    "\n",
    "What other possibilities did you think about?\n",
    "\n",
    "(double-click on the text to edit it)"
   ]
  },
  {
   "cell_type": "markdown",
   "metadata": {
    "deletable": false,
    "nbgrader": {
     "checksum": "b6c4d076ed30d1e9995ddeecdc20ec27",
     "grade": true,
     "grade_id": "cell-f17f91b5fa516d35",
     "locked": false,
     "points": 3,
     "schema_version": 1,
     "solution": true
    }
   },
   "source": [
    "YOUR ANSWER HERE"
   ]
  },
  {
   "cell_type": "markdown",
   "metadata": {
    "deletable": false,
    "editable": false,
    "nbgrader": {
     "checksum": "9478a728c93a781166802af203a99d43",
     "grade": false,
     "grade_id": "cell-6ee8ab67d74fd536",
     "locked": true,
     "schema_version": 1,
     "solution": false
    }
   },
   "source": [
    "### MutableString tests"
   ]
  },
  {
   "cell_type": "code",
   "execution_count": null,
   "metadata": {
    "deletable": false,
    "editable": false,
    "nbgrader": {
     "checksum": "f2a3a03197f9f0af6079ff01beacb726",
     "grade": true,
     "grade_id": "cell-02165ab6b6c46b4f",
     "locked": true,
     "points": 2,
     "schema_version": 1,
     "solution": false
    }
   },
   "outputs": [],
   "source": [
    "# initialization\n",
    "m = MutableString()\n",
    "assert m == \"\" and len(m) == 0"
   ]
  },
  {
   "cell_type": "code",
   "execution_count": null,
   "metadata": {
    "deletable": false,
    "editable": false,
    "nbgrader": {
     "checksum": "f9dc9142a2823e0aafcae81466473473",
     "grade": true,
     "grade_id": "cell-8cc3f5587430f951",
     "locked": true,
     "points": 1,
     "schema_version": 1,
     "solution": false
    }
   },
   "outputs": [],
   "source": [
    "# initialization from file\n",
    "import tempfile\n",
    "import os\n",
    "\n",
    "with tempfile.NamedTemporaryFile(mode=\"w+b\", delete=False) as tmpfile:\n",
    "    tmpfile.write(\"abc\".encode(\"utf8\"))\n",
    "m = MutableString.from_file(tmpfile.name)\n",
    "assert m == \"abc\""
   ]
  },
  {
   "cell_type": "code",
   "execution_count": null,
   "metadata": {
    "deletable": false,
    "editable": false,
    "nbgrader": {
     "checksum": "b35cbe555026258b92aa1d8a7cc6a75b",
     "grade": true,
     "grade_id": "cell-8cc3f5587430f953",
     "locked": true,
     "points": 1,
     "schema_version": 1,
     "solution": false
    }
   },
   "outputs": [],
   "source": [
    "os.remove(tmpfile.name)"
   ]
  },
  {
   "cell_type": "code",
   "execution_count": null,
   "metadata": {
    "deletable": false,
    "editable": false,
    "nbgrader": {
     "checksum": "00a47094e3c373df837046abec113dd5",
     "grade": true,
     "grade_id": "cell-8cc3f5587430f952",
     "locked": true,
     "points": 1,
     "schema_version": 1,
     "solution": false
    }
   },
   "outputs": [],
   "source": []
  },
  {
   "cell_type": "code",
   "execution_count": null,
   "metadata": {
    "deletable": false,
    "editable": false,
    "nbgrader": {
     "checksum": "cc11318269f64e321eb68cb7e0c85d0f",
     "grade": true,
     "grade_id": "cell-9a96e6dcdc4b2fcc",
     "locked": true,
     "points": 1,
     "schema_version": 1,
     "solution": false
    }
   },
   "outputs": [],
   "source": []
  },
  {
   "cell_type": "code",
   "execution_count": null,
   "metadata": {
    "deletable": false,
    "editable": false,
    "nbgrader": {
     "checksum": "17dd36a7d608f62753649bd6b6a85db0",
     "grade": true,
     "grade_id": "cell-81efd81e7a00554e",
     "locked": true,
     "points": 1,
     "schema_version": 1,
     "solution": false
    }
   },
   "outputs": [],
   "source": [
    "# iteration\n",
    "m = MutableString(\"abc\")\n",
    "for c in m:\n",
    "    print(c)"
   ]
  },
  {
   "cell_type": "code",
   "execution_count": null,
   "metadata": {
    "deletable": false,
    "editable": false,
    "nbgrader": {
     "checksum": "4a14b9d872652a4483132347f41c8c7a",
     "grade": true,
     "grade_id": "cell-dbb2ff81492d3f72",
     "locked": true,
     "points": 2,
     "schema_version": 1,
     "solution": false
    }
   },
   "outputs": [],
   "source": [
    "# comparison\n",
    "m1 = MutableString(\"abc\")\n",
    "assert m1 == \"abc\"\n",
    "m2 = MutableString(\"abc\")\n",
    "assert id(m1) != id(m2)\n",
    "assert m1 == m2"
   ]
  },
  {
   "cell_type": "code",
   "execution_count": null,
   "metadata": {
    "deletable": false,
    "editable": false,
    "nbgrader": {
     "checksum": "7318230caaafe383b9a17ec93795b045",
     "grade": true,
     "grade_id": "cell-07a85b37bbb4564e",
     "locked": true,
     "points": 2,
     "schema_version": 1,
     "solution": false
    }
   },
   "outputs": [],
   "source": [
    "# item setting tests\n",
    "m1 = MutableString(\"abc\")\n",
    "assert m1[0] == \"a\" and m1[2] == \"c\"\n",
    "m1[1] = \"d\"\n",
    "assert(m1[1] == \"d\")"
   ]
  },
  {
   "cell_type": "code",
   "execution_count": null,
   "metadata": {
    "deletable": false,
    "editable": false,
    "nbgrader": {
     "checksum": "0b5ac4317cc657211f0ba4f9b4d8868c",
     "grade": true,
     "grade_id": "cell-11a3b1af61d04515",
     "locked": true,
     "points": 2,
     "schema_version": 1,
     "solution": false
    }
   },
   "outputs": [],
   "source": [
    "# slicing\n",
    "m1 = MutableString(\"abc\")\n",
    "assert m1[1:] == \"bc\"\n",
    "m1[2:4] = \"ad\"\n",
    "assert m1 == \"abad\""
   ]
  },
  {
   "cell_type": "code",
   "execution_count": null,
   "metadata": {
    "deletable": false,
    "editable": false,
    "nbgrader": {
     "checksum": "7f945755d54a455b75a8199dd3f7d0cf",
     "grade": true,
     "grade_id": "cell-8f9260e50cc39598",
     "locked": true,
     "points": 2,
     "schema_version": 1,
     "solution": false
    }
   },
   "outputs": [],
   "source": [
    "# conversions\n",
    "m1 = MutableString(\"abc d\")\n",
    "assert(list(m1) == list(\"abc d\"))\n",
    "assert(str(m1) == \"abc d\")"
   ]
  },
  {
   "cell_type": "code",
   "execution_count": null,
   "metadata": {
    "deletable": false,
    "editable": false,
    "nbgrader": {
     "checksum": "33f410ba1305d2e2190e7f0e40e51aa9",
     "grade": true,
     "grade_id": "cell-dd0bda8e1c531bba",
     "locked": true,
     "points": 2,
     "schema_version": 1,
     "solution": false
    }
   },
   "outputs": [],
   "source": [
    "# concatenation\n",
    "m1 = MutableString(\"abc\")\n",
    "m2 = MutableString(\"def\")\n",
    "assert m1 + m2 == \"abcdef\"\n",
    "assert m2 + m1 == \"defabc\""
   ]
  },
  {
   "cell_type": "code",
   "execution_count": null,
   "metadata": {
    "deletable": false,
    "editable": false,
    "nbgrader": {
     "checksum": "99f46292303c238948750d5cacdf2828",
     "grade": true,
     "grade_id": "cell-d4e5abf63477846d",
     "locked": true,
     "points": 1,
     "schema_version": 1,
     "solution": false
    }
   },
   "outputs": [],
   "source": [
    "# multiplication\n",
    "m1 = MutableString(\"abc\")\n",
    "m3 = m1 * 3\n",
    "assert m3 == \"abcabcabc\""
   ]
  },
  {
   "cell_type": "code",
   "execution_count": null,
   "metadata": {
    "deletable": false,
    "editable": false,
    "nbgrader": {
     "checksum": "df5539c08bf256c7bb70f222af95a2b4",
     "grade": true,
     "grade_id": "cell-7ae249bf738b8d6a",
     "locked": true,
     "points": 2,
     "schema_version": 1,
     "solution": false
    }
   },
   "outputs": [],
   "source": [
    "# operator=\n",
    "m1 = MutableString(\"abc\")\n",
    "m2 = m1\n",
    "m2[0] = \"A\"\n",
    "assert m1[1:] == \"bc\""
   ]
  },
  {
   "cell_type": "code",
   "execution_count": null,
   "metadata": {
    "deletable": false,
    "editable": false,
    "nbgrader": {
     "checksum": "445561be0dbba9548b9498a156d44022",
     "grade": true,
     "grade_id": "cell-c7cae6bb8bb14f11",
     "locked": true,
     "points": 2,
     "schema_version": 1,
     "solution": false
    }
   },
   "outputs": [],
   "source": [
    "# copy\n",
    "from copy import copy\n",
    "\n",
    "m1 = MutableString(\"abc\")\n",
    "m2 = copy(m1)\n",
    "m2[0] = \"A\"\n",
    "assert m2 == \"Abc\""
   ]
  },
  {
   "cell_type": "code",
   "execution_count": null,
   "metadata": {
    "deletable": false,
    "editable": false,
    "nbgrader": {
     "checksum": "c8bd502188d4e078df8231ef80c15d55",
     "grade": true,
     "grade_id": "cell-0e1676338f39c777",
     "locked": true,
     "points": 2,
     "schema_version": 1,
     "solution": false
    }
   },
   "outputs": [],
   "source": [
    "# concatenation with strings\n",
    "m1 = MutableString(\"abc\")\n",
    "m2 = m1 + \"def\"\n",
    "assert m2 == \"abcdef\"\n",
    "m3 = \"def\" + m1\n",
    "assert m3 == \"defabc\""
   ]
  },
  {
   "cell_type": "code",
   "execution_count": null,
   "metadata": {
    "deletable": false,
    "editable": false,
    "nbgrader": {
     "checksum": "50f3f64c9dbf6179417943d5a60f85d3",
     "grade": true,
     "grade_id": "cell-2a01c20eb0bd11fc",
     "locked": true,
     "points": 2,
     "schema_version": 1,
     "solution": false
    }
   },
   "outputs": [],
   "source": [
    "# in place lowercasing and uppercasing\n",
    "m1 = MutableString(\"aBc\")\n",
    "m1.to_upper()\n",
    "assert m1 == \"ABC\"\n",
    "m1 = MutableString(\"aBc\")\n",
    "m1.to_lower()"
   ]
  },
  {
   "cell_type": "code",
   "execution_count": null,
   "metadata": {
    "deletable": false,
    "editable": false,
    "nbgrader": {
     "checksum": "6c3c213f3d1476e0617a47c2dd7f8cde",
     "grade": true,
     "grade_id": "cell-d8f0ef82c2479b20",
     "locked": true,
     "points": 1,
     "schema_version": 1,
     "solution": false
    }
   },
   "outputs": [],
   "source": [
    "# containment test\n",
    "m1 = MutableString(\"abcdef\")\n",
    "assert \"bcd\" in m1\n",
    "m2 = MutableString(\"bcd\")\n",
    "assert m2 in m1"
   ]
  },
  {
   "cell_type": "markdown",
   "metadata": {
    "deletable": false,
    "editable": false,
    "nbgrader": {
     "checksum": "6fd316849952653af2f1fd27deb7223b",
     "grade": false,
     "grade_id": "cell-9fb124d915744a44",
     "locked": true,
     "schema_version": 1,
     "solution": false
    }
   },
   "source": [
    "# Text generation\n",
    "\n",
    "## 3.1 (Same as a laboratory exercise) Write a function that computes N-gram frequencies in a string. (0 point)"
   ]
  },
  {
   "cell_type": "code",
   "execution_count": null,
   "metadata": {
    "deletable": false,
    "nbgrader": {
     "checksum": "afe98d84cd5a1f8c3618fde89ab165cb",
     "grade": false,
     "grade_id": "cell-e28c0d3638d63105",
     "locked": false,
     "schema_version": 1,
     "solution": true
    }
   },
   "outputs": [],
   "source": [
    "# YOUR CODE HERE\n",
    "raise NotImplementedError()"
   ]
  },
  {
   "cell_type": "code",
   "execution_count": null,
   "metadata": {
    "deletable": false,
    "editable": false,
    "nbgrader": {
     "checksum": "f3989d5844960aa7eefc7dfe39664b34",
     "grade": true,
     "grade_id": "cell-c1ff36135c46cfed",
     "locked": true,
     "points": 0,
     "schema_version": 1,
     "solution": false
    }
   },
   "outputs": [],
   "source": [
    "assert(count_ngram_freqs(\"abcc\", 1) == {\"a\": 1, \"b\": 1, \"c\": 2})\n",
    "assert(count_ngram_freqs(\"abccab\", 2) == {\"ab\": 2, \"bc\": 1, \"cc\": 1, \"ca\": 1})"
   ]
  },
  {
   "cell_type": "markdown",
   "metadata": {
    "deletable": false,
    "editable": false,
    "nbgrader": {
     "checksum": "def16a18fc0e27bae4182190147b99f8",
     "grade": false,
     "grade_id": "cell-b16c397e384cbd72",
     "locked": true,
     "schema_version": 1,
     "solution": false
    }
   },
   "source": [
    "## 3.2 Define a random text generator function (20 points).\n",
    "\n",
    "The function takes 4 arguments:\n",
    "\n",
    "1. starting text (at least $N-1$ long),\n",
    "2. target length: length of the output string,\n",
    "3. n-gram frequency dictionary,\n",
    "4. N, length of the n-grams.\n",
    "\n",
    "The function generates one character at a time given the last $N-1$ characters.\n",
    "The probability of `c` being generated after `ab` is defined as:\n",
    "\n",
    "$$\n",
    "P(c | a b ) = \\frac{\\text{freq}(a b c)}{\\text{freq}(a b)},\n",
    "$$\n",
    "\n",
    "where  $\\text{freq}(a b c)$ is obtained by counting how many times `abc` occurs in the training corpus (`count_ngram_freqs` function).\n",
    "\n",
    "If the generated text ends with a $N-1$-gram that does not occur in the training data, generate the next character from the full character or ngram distribution."
   ]
  },
  {
   "cell_type": "code",
   "execution_count": null,
   "metadata": {
    "deletable": false,
    "nbgrader": {
     "checksum": "21e0c6e631ae8c7ea98009cbd31e6459",
     "grade": false,
     "grade_id": "cell-ff2fea718aeafac3",
     "locked": false,
     "schema_version": 1,
     "solution": true
    }
   },
   "outputs": [],
   "source": [
    "# YOUR CODE HERE\n",
    "raise NotImplementedError()"
   ]
  },
  {
   "cell_type": "code",
   "execution_count": null,
   "metadata": {
    "deletable": false,
    "editable": false,
    "nbgrader": {
     "checksum": "476f646f02e2a9fabc942917e5c39f00",
     "grade": true,
     "grade_id": "cell-8ce5a7677377c6fb",
     "locked": true,
     "points": 20,
     "schema_version": 1,
     "solution": false
    }
   },
   "outputs": [],
   "source": [
    "toy_freqs = count_ngram_freqs(\"abcabcda\", 3)\n",
    "gen = generate_text(\"abc\", 5, toy_freqs, 3)\n",
    "\n",
    "assert(len(gen) == 5)\n",
    "assert(set(gen) <= set(\"abcd\"))"
   ]
  },
  {
   "cell_type": "markdown",
   "metadata": {
    "deletable": false,
    "editable": false,
    "nbgrader": {
     "checksum": "6369b06c748d3f391767948dfdce8ed6",
     "grade": false,
     "grade_id": "cell-58106de030e06e51",
     "locked": true,
     "schema_version": 1,
     "solution": false
    }
   },
   "source": [
    "## 3.3 Test your solution on a small Wikipedia corpus (10 points).\n",
    "\n",
    "Collect a sample of at least 1 million characters from Wikipedia using the wikipedia module."
   ]
  },
  {
   "cell_type": "code",
   "execution_count": null,
   "metadata": {
    "deletable": false,
    "nbgrader": {
     "checksum": "c0a66fbd3ac079ab3a2b8fec94949dc9",
     "grade": true,
     "grade_id": "cell-1754f5d1a69a2abf",
     "locked": false,
     "points": 10,
     "schema_version": 1,
     "solution": true
    }
   },
   "outputs": [],
   "source": [
    "# YOUR CODE HERE\n",
    "raise NotImplementedError()"
   ]
  },
  {
   "cell_type": "markdown",
   "metadata": {
    "deletable": false,
    "editable": false,
    "nbgrader": {
     "checksum": "f3d3e92c9180edd10508d0d12f47970a",
     "grade": false,
     "grade_id": "cell-7fdb1d33b8b0732f",
     "locked": true,
     "schema_version": 1,
     "solution": false
    }
   },
   "source": [
    "## \\*3.4 Smoothing (extra exercise, 10 points)\n",
    "\n",
    "Implement one or more smoothing methods such as Jelinek-Mercer smoothing or Katz's backoff. Train it on your Wikipedia corpus and generate an example.\n",
    "\n",
    "https://nlp.stanford.edu/~wcmac/papers/20050421-smoothing-tutorial.pdf"
   ]
  },
  {
   "cell_type": "code",
   "execution_count": null,
   "metadata": {
    "deletable": false,
    "nbgrader": {
     "checksum": "793ce4c35f13cecee305bd453c92a85e",
     "grade": true,
     "grade_id": "cell-163b94be41cd70f2",
     "locked": false,
     "points": 10,
     "schema_version": 1,
     "solution": true
    }
   },
   "outputs": [],
   "source": [
    "# YOUR CODE HERE\n",
    "raise NotImplementedError()"
   ]
  },
  {
   "cell_type": "markdown",
   "metadata": {
    "deletable": false,
    "editable": false,
    "nbgrader": {
     "checksum": "6e0f4558fbf052e55eb29151f1d16c23",
     "grade": false,
     "grade_id": "cell-214c50129d4eb198",
     "locked": true,
     "schema_version": 1,
     "solution": false
    }
   },
   "source": [
    "## Code cleanness and PEP8 (10 points)\n",
    "\n",
    "This cell is here for technical reasons, you will receive feedback on your code quality here. You do not need to write anything here."
   ]
  },
  {
   "cell_type": "markdown",
   "metadata": {
    "deletable": false,
    "nbgrader": {
     "checksum": "746f537d482d67bcd6b2b56613803725",
     "grade": true,
     "grade_id": "cell-937470ef5cbde557",
     "locked": false,
     "points": 10,
     "schema_version": 1,
     "solution": true
    }
   },
   "source": [
    "YOUR ANSWER HERE"
   ]
  }
 ],
 "metadata": {
  "kernelspec": {
   "display_name": "Python 3",
   "language": "python",
   "name": "python3"
  },
  "language_info": {
   "codemirror_mode": {
    "name": "ipython",
    "version": 3
   },
   "file_extension": ".py",
   "mimetype": "text/x-python",
   "name": "python",
   "nbconvert_exporter": "python",
   "pygments_lexer": "ipython3",
   "version": "3.6.4"
  }
 },
 "nbformat": 4,
 "nbformat_minor": 2
}
